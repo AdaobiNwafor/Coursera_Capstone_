{
  "nbformat": 4,
  "nbformat_minor": 0,
  "metadata": {
    "colab": {
      "name": "Buisness problem and Data Description",
      "provenance": [],
      "authorship_tag": "ABX9TyOSrrUfru6tdMOCD1LgrutI",
      "include_colab_link": true
    },
    "kernelspec": {
      "name": "python3",
      "display_name": "Python 3"
    },
    "language_info": {
      "name": "python"
    }
  },
  "cells": [
    {
      "cell_type": "markdown",
      "metadata": {
        "id": "view-in-github",
        "colab_type": "text"
      },
      "source": [
        "<a href=\"https://colab.research.google.com/github/AdaobiNwafor/Coursera_Capstone_/blob/main/Buisness_problem_and_Data_Description.ipynb\" target=\"_parent\"><img src=\"https://colab.research.google.com/assets/colab-badge.svg\" alt=\"Open In Colab\"/></a>"
      ]
    },
    {
      "cell_type": "markdown",
      "metadata": {
        "id": "XyBYl7B01e62"
      },
      "source": [
        "# Business Proposal and Data Description"
      ]
    },
    {
      "cell_type": "markdown",
      "metadata": {
        "id": "tiuj7nhjujyn"
      },
      "source": [
        "## The Battle Of Neighbourhoods // Business Proposal"
      ]
    },
    {
      "cell_type": "markdown",
      "metadata": {
        "id": "5CjOm8bSugRZ"
      },
      "source": [
        "### Introduction"
      ]
    },
    {
      "cell_type": "markdown",
      "metadata": {
        "id": "2mssWyFUu1_a"
      },
      "source": [
        "The purpose of this project is to use Foursquare API and its location data service to find the solution to a question or business proposal. \n",
        "\n",
        "There are a lot of people migrating to various states in Canada and a lot of research i s needed to find good housing prices, safe neighbourhoods, good schools, good transport system, nearby shops, hospitals and a good network of social spaces.\n",
        "\n",
        "The project aim is to create an analysis of features for people migrating to North York to search for the best neighbourhood. \n",
        "\n",
        "The features will include median house prices, schools according to ratings, crime rates, road connectivity, weather conditions, emergency management, water resources (fresh and waste) and recreational facilities. "
      ]
    },
    {
      "cell_type": "markdown",
      "metadata": {
        "id": "oxE5JPSuu14e"
      },
      "source": [
        "### Problem"
      ]
    },
    {
      "cell_type": "markdown",
      "metadata": {
        "id": "eatYbfAzu1oo"
      },
      "source": [
        "How to suggest the best neighbourhood in a new city for people moving. Starting with house prices and Schools. For people with children, this will most likely be the first thing they are interested in. \n",
        "\n",
        "1. House prices will be sorted in ascending order (cheapest first) \n",
        "2. Schools will be sorted by feed, rating and reviews in terms of location.\n"
      ]
    },
    {
      "cell_type": "markdown",
      "metadata": {
        "id": "q8Rx8jEPwqIW"
      },
      "source": [
        "### Location "
      ]
    },
    {
      "cell_type": "markdown",
      "metadata": {
        "id": "UElj-MyWwqBL"
      },
      "source": [
        "North York is a rising destination for new immigrants in Toronto. Known for its safety, shopping malls and diversity of food. Home to various religious groups and places fo worship, this city caters to everyone."
      ]
    },
    {
      "cell_type": "markdown",
      "metadata": {
        "id": "5UUUjOc6wp7V"
      },
      "source": [
        "### Foursquare API"
      ]
    },
    {
      "cell_type": "markdown",
      "metadata": {
        "id": "yhSEcCDMycR0"
      },
      "source": [
        "Foursquare API is a prime data gathering source due to its database flooded with millions of venues. There is also the ability to perform location searches, location sharing and finding out details about a buisness such as opening/closing times, reviews and ratings. \n",
        "\n",
        "Using credentials of Foursquare API, the features of nearby places of the neighbourhoods can be mined. The limitations of the number of places per neighbourhood will be set to a 100, while the radius will be set to 500."
      ]
    },
    {
      "cell_type": "markdown",
      "metadata": {
        "id": "7nJ-wQZBycJd"
      },
      "source": [
        "### Clustering Approach"
      ]
    },
    {
      "cell_type": "markdown",
      "metadata": {
        "id": "ZLtlOE3Du1Ry"
      },
      "source": [
        "**Clustering is a form of unsupervised machine learning. I will be using the K-means clustering algorithm.**\n",
        "\n",
        "To compare the similiarities of two cities, we explore neighbourhoods, segment them and group them into clusters to find similar neighbourhoods within a big city like New York and Toronto. "
      ]
    },
    {
      "cell_type": "markdown",
      "metadata": {
        "id": "avRYkXMlzfsq"
      },
      "source": [
        "### Libraries"
      ]
    },
    {
      "cell_type": "markdown",
      "metadata": {
        "id": "ZrXKX4Spzfp-"
      },
      "source": [
        "Pandas: Creating and manipulating dataframes. \n",
        "\n",
        "Folium: Python visualisation library used to create maps of neihgbourhood clusters.\n",
        "\n",
        "Scikit-Learn: Importing machine learning modules such as K-means clustering.\n",
        "\n",
        "JSON: Aids working with JSON files.\n",
        "\n",
        "XML: Separates data from presentation and XML stores data in plain text format.\n",
        "\n",
        "Geocoder: Retrieves location data.\n",
        "\n",
        "BeautifulSoup and requests: Scrape html text and handle http requests.\n",
        "\n",
        "Matplotlib: Data visualisation plotting."
      ]
    },
    {
      "cell_type": "markdown",
      "metadata": {
        "id": "bEwH9fqDzfnW"
      },
      "source": [
        "***"
      ]
    },
    {
      "cell_type": "markdown",
      "metadata": {
        "id": "3-PQTg5izfk8"
      },
      "source": [
        "***"
      ]
    },
    {
      "cell_type": "markdown",
      "metadata": {
        "id": "P3_iauQ6zfiC"
      },
      "source": [
        "## The Battle of Neighbourhood // Data Description"
      ]
    },
    {
      "cell_type": "markdown",
      "metadata": {
        "id": "mguh1VWOzffD"
      },
      "source": [
        "Data:\n",
        "https://en.wikipedia.org/wiki/List_of_postal_codes_of_Canada:_M"
      ]
    },
    {
      "cell_type": "markdown",
      "metadata": {
        "id": "xdow6JDJ17sZ"
      },
      "source": [
        "### Foursquare API"
      ]
    },
    {
      "cell_type": "markdown",
      "metadata": {
        "id": "xyRUJVeC17pM"
      },
      "source": [
        "I will need data about different venues in different neighbourhoods of specific boroughs. \n",
        "\n",
        "The information gained per venue:\n",
        "1. Neighbourhood name\n",
        "2. Neighbourhood Longitude/Latitude\n",
        "3. Venue type\n",
        "4. Venue Name\n",
        "5. Venue Longitude/Latitude\n",
        "6. Venue Category "
      ]
    }
  ]
}